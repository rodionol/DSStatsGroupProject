{
 "cells": [
  {
   "cell_type": "code",
   "execution_count": null,
   "id": "8eb1ada6-6cc7-4dbd-83a3-89c20adb9e92",
   "metadata": {},
   "outputs": [],
   "source": []
  }
 ],
 "metadata": {
  "kernelspec": {
   "display_name": "",
   "name": ""
  },
  "language_info": {
   "name": ""
  }
 },
 "nbformat": 4,
 "nbformat_minor": 5
}
