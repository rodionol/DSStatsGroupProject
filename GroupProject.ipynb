{
 "cells": [
  {
   "cell_type": "code",
   "execution_count": 6,
   "id": "8eb1ada6-6cc7-4dbd-83a3-89c20adb9e92",
   "metadata": {},
   "outputs": [],
   "source": [
    "import pandas as pd\n",
    "\n",
    "# upload data into DataFrame\n",
    "ApartmentEvals = pd.read_csv(\"Apartment Building Evaluations 2023 - current.csv\", encoding='latin-1')"
   ]
  },
  {
   "cell_type": "code",
   "execution_count": null,
   "id": "0ebf0406-cc49-4f35-9305-42012fdd27e8",
   "metadata": {},
   "outputs": [],
   "source": [
    "# Project parameters\n",
    "# Using Apartment Building Evaluations 2023 - current from  https://open.toronto.ca/ site\n",
    "# Parameter of interest is the building score (CURRENT BUILDING EVAL SCORE)"
   ]
  },
  {
   "cell_type": "code",
   "execution_count": null,
   "id": "1977b3c1-7813-4287-b57a-81bdfe725765",
   "metadata": {},
   "outputs": [],
   "source": [
    "# HYPOTHESIS TESTING 1: The building score is higher for buildings where the YEAR BUILT is higher\n",
    "# \n",
    "# "
   ]
  },
  {
   "cell_type": "code",
   "execution_count": null,
   "id": "745054cf-750b-416a-8d10-8fd03e9a4e44",
   "metadata": {},
   "outputs": [],
   "source": [
    "# HYPOTHGESIS TESTING 2: The building score is higher for buildings in more upscale neighbourghoods (WARD column)\n",
    "# need to select criteria to define upscale neighbourhoods from data outside dataset\n",
    "#\n",
    "#"
   ]
  },
  {
   "cell_type": "code",
   "execution_count": null,
   "id": "994a6ef1-dbef-475d-91f7-049a512834c3",
   "metadata": {},
   "outputs": [],
   "source": [
    "# HYPOTHESIS TESTING 3: The building score is statistically higher for Private buildings vs. Community Housing (PropertyType column)\n",
    "#\n",
    "#"
   ]
  },
  {
   "cell_type": "code",
   "execution_count": null,
   "id": "fa11b5b6-b670-4c06-8857-6e583e9a3761",
   "metadata": {},
   "outputs": [],
   "source": [
    "# STRETCH GOAL: LOGISTIC REGRESSSION"
   ]
  },
  {
   "cell_type": "code",
   "execution_count": null,
   "id": "083a30e1-949d-4eeb-9812-b41222e9bce3",
   "metadata": {},
   "outputs": [],
   "source": []
  }
 ],
 "metadata": {
  "kernelspec": {
   "display_name": "Python 3 (ipykernel)",
   "language": "python",
   "name": "python3"
  },
  "language_info": {
   "codemirror_mode": {
    "name": "ipython",
    "version": 3
   },
   "file_extension": ".py",
   "mimetype": "text/x-python",
   "name": "python",
   "nbconvert_exporter": "python",
   "pygments_lexer": "ipython3",
   "version": "3.12.7"
  }
 },
 "nbformat": 4,
 "nbformat_minor": 5
}
